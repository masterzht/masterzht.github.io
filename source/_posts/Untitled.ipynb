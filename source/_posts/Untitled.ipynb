{
 "cells": [
  {
   "attachments": {},
   "cell_type": "markdown",
   "metadata": {},
   "source": [
    "对markdown还不够熟悉，但我却能预料到以后会用它去记录生活的点点滴滴，这也正是我这篇博客诞生的原因。 \n",
    "\n",
    "markdown是一种轻量级的标记语言，所说是轻量级，但是其提供的语法却是不少。如果真要把所有的语法学个遍的话，那是不现实的。所以我会归出我写博客期间需要掌握的几种语法。\n",
    "\n",
    "## **标题**\n",
    "\n",
    "标题一共可以分为六级，**我这里就只用第二级**，临时使用也可以用第三级。\n",
    "\n",
    "## **链接**\n",
    "\n",
    "链接分为两类：一类是图片链接，一类是超文本链接。还是有区别的，图片链接是本页直接显示，另外一类是相当于新标签页打开。\n",
    "\n",
    "![图片无法显示的时候显示的内容](\\assets\\blog_img\\180330-1.png \"鼠标放置在图片上显示\")\n",
    "看一下例子：[Baidu](www.baidu.com \"百度一下，你就知道，鼠标放上去就显示\" )\n",
    "\n",
    "## **列表**\n",
    "\n",
    "加个1234就可以。\n",
    "***\n",
    "* * *\n",
    "\n",
    "1. 第一节移动互联开发技术\n",
    "2. ios课还是上了，简直服了，电脑不好用\n",
    "3. 水平可以，计算机操作系统老师水平挺强，要好好学学!\n",
    "\n",
    "## **引用的内容**\n",
    "\n",
    "> Stay hungry,Stay healthy!\n",
    "*—— 乔布斯\n",
    "\n",
    "## 代码引用\n",
    "\n",
    "```\n",
    "神了\n",
    "神了\n",
    "\n",
    "```\n",
    "\n",
    "## 最后\n",
    "\n",
    "目前就记录这一些，以后还有好用的再另加。"
   ]
  },
  {
   "cell_type": "markdown",
   "metadata": {},
   "source": []
  }
 ],
 "metadata": {
  "kernelspec": {
   "display_name": "Python 3",
   "language": "python",
   "name": "python3"
  },
  "language_info": {
   "codemirror_mode": {
    "name": "ipython",
    "version": 3
   },
   "file_extension": ".py",
   "mimetype": "text/x-python",
   "name": "python",
   "nbconvert_exporter": "python",
   "pygments_lexer": "ipython3",
   "version": "3.6.4"
  }
 },
 "nbformat": 4,
 "nbformat_minor": 2
}
